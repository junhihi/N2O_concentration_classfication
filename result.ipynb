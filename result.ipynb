{
 "cells": [
  {
   "cell_type": "code",
   "execution_count": 1,
   "metadata": {},
   "outputs": [
    {
     "name": "stdout",
     "output_type": "stream",
     "text": [
      "데이터 전처리 시작\n",
      "데이터셋 초기화 완료: 2475 샘플\n",
      "데이터 전처리 완료\n",
      "체크포인트 로드 완료: ckpt/best_model.pth\n",
      "에포크 1, 학습 손실: 0.0001, 학습 MAE: 0.0066, 학습 RMSE: 0.0088, 검증 손실: 0.0001, 검증 MAE: 0.0067, 검증 RMSE: 0.0088\n",
      "에포크 2, 학습 손실: 0.0000, 학습 MAE: 0.0057, 학습 RMSE: 0.0065, 검증 손실: 0.0000, 검증 MAE: 0.0057, 검증 RMSE: 0.0066\n",
      "에포크 3, 학습 손실: 0.0000, 학습 MAE: 0.0031, 학습 RMSE: 0.0040, 검증 손실: 0.0000, 검증 MAE: 0.0031, 검증 RMSE: 0.0040\n",
      "에포크 4, 학습 손실: 0.0001, 학습 MAE: 0.0063, 학습 RMSE: 0.0075, 검증 손실: 0.0001, 검증 MAE: 0.0063, 검증 RMSE: 0.0073\n",
      "에포크 5, 학습 손실: 0.0000, 학습 MAE: 0.0055, 학습 RMSE: 0.0066, 검증 손실: 0.0000, 검증 MAE: 0.0056, 검증 RMSE: 0.0067\n",
      "에포크 6, 학습 손실: 0.0001, 학습 MAE: 0.0107, 학습 RMSE: 0.0119, 검증 손실: 0.0001, 검증 MAE: 0.0108, 검증 RMSE: 0.0120\n",
      "에포크 7, 학습 손실: 0.0001, 학습 MAE: 0.0072, 학습 RMSE: 0.0090, 검증 손실: 0.0001, 검증 MAE: 0.0071, 검증 RMSE: 0.0087\n",
      "에포크 8, 학습 손실: 0.0000, 학습 MAE: 0.0048, 학습 RMSE: 0.0060, 검증 손실: 0.0000, 검증 MAE: 0.0049, 검증 RMSE: 0.0061\n",
      "에포크 9, 학습 손실: 0.0000, 학습 MAE: 0.0027, 학습 RMSE: 0.0036, 검증 손실: 0.0000, 검증 MAE: 0.0027, 검증 RMSE: 0.0037\n",
      "에포크 10, 학습 손실: 0.0001, 학습 MAE: 0.0066, 학습 RMSE: 0.0095, 검증 손실: 0.0001, 검증 MAE: 0.0063, 검증 RMSE: 0.0092\n",
      "최적 모델 - 테스트 손실: 0.0000, 테스트 MAE: 0.0029, 테스트 RMSE: 0.0040\n",
      "잘못된 예측 수: 0\n"
     ]
    }
   ],
   "source": [
    "!python src/trainer.py"
   ]
  },
  {
   "cell_type": "code",
   "execution_count": 2,
   "metadata": {},
   "outputs": [
    {
     "name": "stdout",
     "output_type": "stream",
     "text": [
      "                   filename        concentration\n",
      "0   N2O_373K_20cm_15%_1.csv   14.51011598110199%\n",
      "1   N2O_373K_20cm_15%_3.csv     14.366415143013%\n",
      "2   N2O_373K_20cm_15%_2.csv  14.450132846832275%\n",
      "3   N2O_373K_20cm_15%_5.csv  14.223656058311462%\n",
      "4   N2O_373K_20cm_15%_4.csv   14.79596495628357%\n",
      "5    N2O_373K_20cm_2%_5.csv   1.881089061498642%\n",
      "6    N2O_373K_20cm_2%_4.csv  2.1595709025859833%\n",
      "7    N2O_373K_20cm_2%_1.csv  2.0770326256752014%\n",
      "8    N2O_373K_20cm_2%_3.csv  2.2250980138778687%\n",
      "9    N2O_373K_20cm_2%_2.csv  2.3759692907333374%\n",
      "10  N2O_373K_20cm_20%_5.csv  19.066745042800903%\n",
      "11   N2O_373K_20cm_5%_5.csv   4.688379168510437%\n",
      "12   N2O_373K_20cm_5%_4.csv   4.908156394958496%\n",
      "13  N2O_373K_20cm_20%_4.csv  20.192134380340576%\n",
      "14   N2O_373K_20cm_5%_1.csv  4.9931202083826065%\n",
      "15  N2O_373K_20cm_20%_1.csv   20.44137567281723%\n",
      "16  N2O_373K_20cm_20%_3.csv  20.324549078941345%\n",
      "17   N2O_373K_20cm_5%_3.csv   4.592739045619965%\n",
      "18   N2O_373K_20cm_5%_2.csv   4.728458821773529%\n",
      "19  N2O_373K_20cm_20%_2.csv  19.581696391105652%\n",
      "20  N2O_373K_20cm_10%_5.csv    9.85909104347229%\n",
      "21  N2O_373K_20cm_10%_4.csv   9.681452065706253%\n",
      "22  N2O_373K_20cm_10%_3.csv   9.825338423252106%\n",
      "23  N2O_373K_20cm_10%_2.csv   9.609444439411163%\n",
      "24  N2O_373K_20cm_10%_1.csv   9.851646423339844%\n"
     ]
    }
   ],
   "source": [
    "!python src/predict.py"
   ]
  },
  {
   "cell_type": "code",
   "execution_count": null,
   "metadata": {},
   "outputs": [],
   "source": []
  }
 ],
 "metadata": {
  "kernelspec": {
   "display_name": "kitech",
   "language": "python",
   "name": "python3"
  },
  "language_info": {
   "codemirror_mode": {
    "name": "ipython",
    "version": 3
   },
   "file_extension": ".py",
   "mimetype": "text/x-python",
   "name": "python",
   "nbconvert_exporter": "python",
   "pygments_lexer": "ipython3",
   "version": "3.11.13"
  }
 },
 "nbformat": 4,
 "nbformat_minor": 2
}
