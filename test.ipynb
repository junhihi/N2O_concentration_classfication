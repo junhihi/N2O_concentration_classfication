{
 "cells": [
  {
   "cell_type": "code",
   "execution_count": 128,
   "metadata": {},
   "outputs": [
    {
     "name": "stdout",
     "output_type": "stream",
     "text": [
      "데이터 전처리 시작\n",
      "데이터셋 초기화 완료: 1980 샘플\n",
      "데이터 전처리 완료\n",
      "에포크 1, 학습 손실: 0.0004, 학습 MAE: 0.0165, 학습 RMSE: 0.0207, 검증 손실: 0.0004, 검증 MAE: 0.0147, 검증 RMSE: 0.0193\n",
      "에포크 2, 학습 손실: 0.0002, 학습 MAE: 0.0105, 학습 RMSE: 0.0126, 검증 손실: 0.0001, 검증 MAE: 0.0099, 검증 RMSE: 0.0117\n",
      "에포크 3, 학습 손실: 0.0008, 학습 MAE: 0.0229, 학습 RMSE: 0.0290, 검증 손실: 0.0007, 검증 MAE: 0.0202, 검증 RMSE: 0.0265\n",
      "에포크 4, 학습 손실: 0.0010, 학습 MAE: 0.0284, 학습 RMSE: 0.0309, 검증 손실: 0.0009, 검증 MAE: 0.0270, 검증 RMSE: 0.0292\n",
      "에포크 5, 학습 손실: 0.0009, 학습 MAE: 0.0263, 학습 RMSE: 0.0306, 검증 손실: 0.0008, 검증 MAE: 0.0241, 검증 RMSE: 0.0282\n",
      "에포크 6, 학습 손실: 0.0004, 학습 MAE: 0.0153, 학습 RMSE: 0.0191, 검증 손실: 0.0003, 검증 MAE: 0.0136, 검증 RMSE: 0.0175\n",
      "에포크 7, 학습 손실: 0.0011, 학습 MAE: 0.0277, 학습 RMSE: 0.0334, 검증 손실: 0.0009, 검증 MAE: 0.0251, 검증 RMSE: 0.0304\n",
      "에포크 8, 학습 손실: 0.0006, 학습 MAE: 0.0225, 학습 RMSE: 0.0254, 검증 손실: 0.0006, 검증 MAE: 0.0209, 검증 RMSE: 0.0237\n",
      "에포크 9, 학습 손실: 0.0008, 학습 MAE: 0.0239, 학습 RMSE: 0.0287, 검증 손실: 0.0007, 검증 MAE: 0.0216, 검증 RMSE: 0.0262\n",
      "에포크 10, 학습 손실: 0.0006, 학습 MAE: 0.0213, 학습 RMSE: 0.0250, 검증 손실: 0.0005, 검증 MAE: 0.0194, 검증 RMSE: 0.0230\n",
      "최적 모델 - 테스트 손실: 0.0002, 테스트 MAE: 0.0107, 테스트 RMSE: 0.0128\n",
      "잘못된 예측 수: 261\n",
      "잘못된 예측 상세 (최대 10개):\n",
      "이미지: dataset/imgs/N2O_373K_20cm_2%_5/sample_0.jpg, 실제 값: 0.2000, 예측 값: 0.1810\n",
      "이미지: dataset/imgs/N2O_373K_20cm_2%_5/sample_1.jpg, 실제 값: 0.2000, 예측 값: 0.1838\n",
      "이미지: dataset/imgs/N2O_373K_20cm_2%_5/sample_2.jpg, 실제 값: 0.1000, 예측 값: 0.1096\n",
      "이미지: dataset/imgs/N2O_373K_20cm_2%_5/sample_4.jpg, 실제 값: 0.1000, 예측 값: 0.0845\n",
      "이미지: dataset/imgs/N2O_373K_20cm_2%_5/sample_6.jpg, 실제 값: 0.0200, 예측 값: 0.0234\n",
      "이미지: dataset/imgs/N2O_373K_20cm_2%_5/sample_7.jpg, 실제 값: 0.2000, 예측 값: 0.1774\n",
      "이미지: dataset/imgs/N2O_373K_20cm_2%_5/sample_8.jpg, 실제 값: 0.0500, 예측 값: 0.0363\n",
      "이미지: dataset/imgs/N2O_373K_20cm_2%_5/sample_9.jpg, 실제 값: 0.1000, 예측 값: 0.1262\n",
      "이미지: dataset/imgs/N2O_373K_20cm_2%_5/sample_10.jpg, 실제 값: 0.2000, 예측 값: 0.1841\n",
      "이미지: dataset/imgs/N2O_373K_20cm_2%_5/sample_11.jpg, 실제 값: 0.1000, 예측 값: 0.0867\n"
     ]
    }
   ],
   "source": [
    "!python src/trainer.py\n",
    "# 15% 농도 제외 학습(10 epoch, 10 batch)"
   ]
  },
  {
   "cell_type": "code",
   "execution_count": 129,
   "metadata": {},
   "outputs": [
    {
     "name": "stdout",
     "output_type": "stream",
     "text": [
      "                  filename concentration err_rate\n",
      "0  N2O_373K_20cm_15%_1.csv      14.5319%  3.1208%\n",
      "1  N2O_373K_20cm_15%_3.csv      14.2840%  4.7736%\n",
      "2  N2O_373K_20cm_15%_2.csv      14.4762%  3.4921%\n",
      "3  N2O_373K_20cm_15%_5.csv      14.8096%  1.2690%\n",
      "4  N2O_373K_20cm_15%_4.csv      14.5680%  2.8803%\n"
     ]
    }
   ],
   "source": [
    "!python src/predict.py --csv_dir 15%\n",
    "# 15% 예측 결과"
   ]
  },
  {
   "cell_type": "code",
   "execution_count": null,
   "metadata": {},
   "outputs": [],
   "source": []
  }
 ],
 "metadata": {
  "language_info": {
   "name": "python"
  }
 },
 "nbformat": 4,
 "nbformat_minor": 2
}
